{
 "cells": [
  {
   "cell_type": "code",
   "execution_count": 2,
   "id": "78017ef9",
   "metadata": {},
   "outputs": [],
   "source": [
    "import numpy as np\n",
    "import tensorflow as tf\n",
    "from tensorflow import keras\n",
    "from tensorflow.keras.preprocessing.text import one_hot\n",
    "from tensorflow.keras.preprocessing.sequence import pad_sequences\n",
    "from tensorflow.keras.models import Sequential\n",
    "from tensorflow.keras.layers import Dense\n",
    "from tensorflow.keras.layers import Flatten\n",
    "from tensorflow.keras.layers import Embedding"
   ]
  },
  {
   "cell_type": "code",
   "execution_count": 3,
   "id": "7b187d93",
   "metadata": {},
   "outputs": [],
   "source": [
    "reviews = ['nice food',\n",
    "        'amazing restaurant',\n",
    "        'too good',\n",
    "        'just loved it!',\n",
    "        'will go again',\n",
    "        'horrible food',\n",
    "        'never go there',\n",
    "        'poor service',\n",
    "        'poor quality',\n",
    "        'needs improvement']\n",
    "\n",
    "sentiment = np.array([1,1,1,1,1,0,0,0,0,0])"
   ]
  },
  {
   "cell_type": "code",
   "execution_count": 6,
   "id": "8cb9ee53",
   "metadata": {},
   "outputs": [
    {
     "data": {
      "text/plain": [
       "[11, 24]"
      ]
     },
     "execution_count": 6,
     "metadata": {},
     "output_type": "execute_result"
    }
   ],
   "source": [
    "one_hot(\"amazing restaurant\", 30)"
   ]
  },
  {
   "cell_type": "code",
   "execution_count": 7,
   "id": "ebd77dca",
   "metadata": {},
   "outputs": [
    {
     "data": {
      "text/plain": [
       "[[27, 12],\n",
       " [11, 24],\n",
       " [9, 20],\n",
       " [9, 13, 27],\n",
       " [21, 24, 15],\n",
       " [9, 12],\n",
       " [14, 24, 14],\n",
       " [19, 16],\n",
       " [19, 4],\n",
       " [28, 27]]"
      ]
     },
     "execution_count": 7,
     "metadata": {},
     "output_type": "execute_result"
    }
   ],
   "source": [
    "vocab_size = 30\n",
    "encoded_reviews = [one_hot(review, vocab_size) for review in reviews]\n",
    "encoded_reviews"
   ]
  },
  {
   "cell_type": "code",
   "execution_count": 11,
   "id": "bb418057",
   "metadata": {},
   "outputs": [
    {
     "data": {
      "text/plain": [
       "array([[27, 12,  0],\n",
       "       [11, 24,  0],\n",
       "       [ 9, 20,  0],\n",
       "       [ 9, 13, 27],\n",
       "       [21, 24, 15],\n",
       "       [ 9, 12,  0],\n",
       "       [14, 24, 14],\n",
       "       [19, 16,  0],\n",
       "       [19,  4,  0],\n",
       "       [28, 27,  0]])"
      ]
     },
     "execution_count": 11,
     "metadata": {},
     "output_type": "execute_result"
    }
   ],
   "source": [
    "max_length = 3\n",
    "padded_reviews = pad_sequences(encoded_reviews, maxlen=max_length, padding=\"post\")\n",
    "padded_reviews"
   ]
  },
  {
   "cell_type": "code",
   "execution_count": 12,
   "id": "fec6fb04",
   "metadata": {},
   "outputs": [],
   "source": [
    "embeded_vector_size = 4\n",
    "\n",
    "model = Sequential([\n",
    "    Embedding(vocab_size, embeded_vector_size, input_length=max_length,name=\"embedding\"),\n",
    "    Flatten(),\n",
    "    Dense(1, activation=\"sigmoid\")\n",
    "])"
   ]
  },
  {
   "cell_type": "code",
   "execution_count": 14,
   "id": "b50a63de",
   "metadata": {},
   "outputs": [],
   "source": [
    "X = padded_reviews\n",
    "y = sentiment"
   ]
  },
  {
   "cell_type": "code",
   "execution_count": 15,
   "id": "ac68c615",
   "metadata": {},
   "outputs": [
    {
     "name": "stdout",
     "output_type": "stream",
     "text": [
      "Model: \"sequential\"\n",
      "_________________________________________________________________\n",
      " Layer (type)                Output Shape              Param #   \n",
      "=================================================================\n",
      " embedding (Embedding)       (None, 3, 4)              120       \n",
      "                                                                 \n",
      " flatten (Flatten)           (None, 12)                0         \n",
      "                                                                 \n",
      " dense (Dense)               (None, 1)                 13        \n",
      "                                                                 \n",
      "=================================================================\n",
      "Total params: 133\n",
      "Trainable params: 133\n",
      "Non-trainable params: 0\n",
      "_________________________________________________________________\n",
      "None\n"
     ]
    }
   ],
   "source": [
    "model.compile(optimizer='adam',\n",
    "              loss='binary_crossentropy',\n",
    "              metrics=['accuracy'])\n",
    "print(model.summary())"
   ]
  },
  {
   "cell_type": "code",
   "execution_count": 16,
   "id": "26d7e315",
   "metadata": {
    "scrolled": true
   },
   "outputs": [
    {
     "name": "stdout",
     "output_type": "stream",
     "text": [
      "Epoch 1/50\n",
      "1/1 [==============================] - 2s 2s/step - loss: 0.7017 - accuracy: 0.3000\n",
      "Epoch 2/50\n",
      "1/1 [==============================] - 0s 9ms/step - loss: 0.7002 - accuracy: 0.3000\n",
      "Epoch 3/50\n",
      "1/1 [==============================] - 0s 8ms/step - loss: 0.6987 - accuracy: 0.3000\n",
      "Epoch 4/50\n",
      "1/1 [==============================] - 0s 10ms/step - loss: 0.6972 - accuracy: 0.4000\n",
      "Epoch 5/50\n",
      "1/1 [==============================] - 0s 9ms/step - loss: 0.6957 - accuracy: 0.5000\n",
      "Epoch 6/50\n",
      "1/1 [==============================] - 0s 7ms/step - loss: 0.6942 - accuracy: 0.5000\n",
      "Epoch 7/50\n",
      "1/1 [==============================] - 0s 9ms/step - loss: 0.6927 - accuracy: 0.6000\n",
      "Epoch 8/50\n",
      "1/1 [==============================] - 0s 6ms/step - loss: 0.6912 - accuracy: 0.5000\n",
      "Epoch 9/50\n",
      "1/1 [==============================] - 0s 7ms/step - loss: 0.6897 - accuracy: 0.6000\n",
      "Epoch 10/50\n",
      "1/1 [==============================] - 0s 7ms/step - loss: 0.6882 - accuracy: 0.6000\n",
      "Epoch 11/50\n",
      "1/1 [==============================] - 0s 7ms/step - loss: 0.6868 - accuracy: 0.6000\n",
      "Epoch 12/50\n",
      "1/1 [==============================] - 0s 6ms/step - loss: 0.6853 - accuracy: 0.6000\n",
      "Epoch 13/50\n",
      "1/1 [==============================] - 0s 8ms/step - loss: 0.6838 - accuracy: 0.8000\n",
      "Epoch 14/50\n",
      "1/1 [==============================] - 0s 7ms/step - loss: 0.6824 - accuracy: 0.8000\n",
      "Epoch 15/50\n",
      "1/1 [==============================] - 0s 8ms/step - loss: 0.6809 - accuracy: 0.8000\n",
      "Epoch 16/50\n",
      "1/1 [==============================] - 0s 7ms/step - loss: 0.6795 - accuracy: 0.8000\n",
      "Epoch 17/50\n",
      "1/1 [==============================] - 0s 7ms/step - loss: 0.6781 - accuracy: 0.8000\n",
      "Epoch 18/50\n",
      "1/1 [==============================] - 0s 7ms/step - loss: 0.6766 - accuracy: 0.7000\n",
      "Epoch 19/50\n",
      "1/1 [==============================] - 0s 7ms/step - loss: 0.6752 - accuracy: 0.7000\n",
      "Epoch 20/50\n",
      "1/1 [==============================] - 0s 9ms/step - loss: 0.6737 - accuracy: 0.7000\n",
      "Epoch 21/50\n",
      "1/1 [==============================] - 0s 11ms/step - loss: 0.6723 - accuracy: 0.7000\n",
      "Epoch 22/50\n",
      "1/1 [==============================] - 0s 13ms/step - loss: 0.6709 - accuracy: 0.7000\n",
      "Epoch 23/50\n",
      "1/1 [==============================] - 0s 15ms/step - loss: 0.6694 - accuracy: 0.7000\n",
      "Epoch 24/50\n",
      "1/1 [==============================] - 0s 43ms/step - loss: 0.6680 - accuracy: 0.8000\n",
      "Epoch 25/50\n",
      "1/1 [==============================] - 0s 34ms/step - loss: 0.6666 - accuracy: 0.8000\n",
      "Epoch 26/50\n",
      "1/1 [==============================] - 0s 15ms/step - loss: 0.6651 - accuracy: 0.8000\n",
      "Epoch 27/50\n",
      "1/1 [==============================] - 0s 18ms/step - loss: 0.6637 - accuracy: 0.8000\n",
      "Epoch 28/50\n",
      "1/1 [==============================] - 0s 7ms/step - loss: 0.6623 - accuracy: 0.8000\n",
      "Epoch 29/50\n",
      "1/1 [==============================] - 0s 10ms/step - loss: 0.6608 - accuracy: 0.8000\n",
      "Epoch 30/50\n",
      "1/1 [==============================] - 0s 9ms/step - loss: 0.6594 - accuracy: 0.8000\n",
      "Epoch 31/50\n",
      "1/1 [==============================] - 0s 11ms/step - loss: 0.6579 - accuracy: 0.8000\n",
      "Epoch 32/50\n",
      "1/1 [==============================] - 0s 12ms/step - loss: 0.6565 - accuracy: 0.8000\n",
      "Epoch 33/50\n",
      "1/1 [==============================] - 0s 12ms/step - loss: 0.6550 - accuracy: 0.8000\n",
      "Epoch 34/50\n",
      "1/1 [==============================] - 0s 13ms/step - loss: 0.6536 - accuracy: 0.8000\n",
      "Epoch 35/50\n",
      "1/1 [==============================] - 0s 36ms/step - loss: 0.6521 - accuracy: 0.8000\n",
      "Epoch 36/50\n",
      "1/1 [==============================] - 0s 55ms/step - loss: 0.6506 - accuracy: 0.8000\n",
      "Epoch 37/50\n",
      "1/1 [==============================] - 0s 21ms/step - loss: 0.6492 - accuracy: 0.8000\n",
      "Epoch 38/50\n",
      "1/1 [==============================] - 0s 14ms/step - loss: 0.6477 - accuracy: 0.8000\n",
      "Epoch 39/50\n",
      "1/1 [==============================] - 0s 13ms/step - loss: 0.6462 - accuracy: 0.8000\n",
      "Epoch 40/50\n",
      "1/1 [==============================] - 0s 9ms/step - loss: 0.6447 - accuracy: 0.8000\n",
      "Epoch 41/50\n",
      "1/1 [==============================] - 0s 8ms/step - loss: 0.6433 - accuracy: 0.8000\n",
      "Epoch 42/50\n",
      "1/1 [==============================] - 0s 37ms/step - loss: 0.6418 - accuracy: 0.8000\n",
      "Epoch 43/50\n",
      "1/1 [==============================] - 0s 8ms/step - loss: 0.6403 - accuracy: 0.8000\n",
      "Epoch 44/50\n",
      "1/1 [==============================] - 0s 7ms/step - loss: 0.6388 - accuracy: 0.8000\n",
      "Epoch 45/50\n",
      "1/1 [==============================] - 0s 8ms/step - loss: 0.6373 - accuracy: 0.8000\n",
      "Epoch 46/50\n",
      "1/1 [==============================] - 0s 7ms/step - loss: 0.6358 - accuracy: 0.8000\n",
      "Epoch 47/50\n",
      "1/1 [==============================] - 0s 9ms/step - loss: 0.6343 - accuracy: 0.8000\n",
      "Epoch 48/50\n",
      "1/1 [==============================] - 0s 6ms/step - loss: 0.6328 - accuracy: 0.8000\n",
      "Epoch 49/50\n",
      "1/1 [==============================] - 0s 9ms/step - loss: 0.6313 - accuracy: 0.8000\n",
      "Epoch 50/50\n",
      "1/1 [==============================] - 0s 9ms/step - loss: 0.6297 - accuracy: 0.8000\n"
     ]
    },
    {
     "data": {
      "text/plain": [
       "<keras.callbacks.History at 0x1a05e6b2380>"
      ]
     },
     "execution_count": 16,
     "metadata": {},
     "output_type": "execute_result"
    }
   ],
   "source": [
    "model.fit(X,y, epochs=50)"
   ]
  },
  {
   "cell_type": "code",
   "execution_count": 17,
   "id": "fc94c3bd",
   "metadata": {},
   "outputs": [
    {
     "name": "stdout",
     "output_type": "stream",
     "text": [
      "1/1 [==============================] - 0s 154ms/step - loss: 0.6282 - accuracy: 0.8000\n"
     ]
    },
    {
     "data": {
      "text/plain": [
       "[0.6282057762145996, 0.800000011920929]"
      ]
     },
     "execution_count": 17,
     "metadata": {},
     "output_type": "execute_result"
    }
   ],
   "source": [
    "model.evaluate(X,y)"
   ]
  },
  {
   "cell_type": "code",
   "execution_count": 32,
   "id": "ff138d63",
   "metadata": {
    "scrolled": true
   },
   "outputs": [
    {
     "data": {
      "text/plain": [
       "array([[-0.07679579,  0.09732715,  0.08619899,  0.05739338],\n",
       "       [-0.04986708, -0.01229765,  0.0284027 ,  0.0126645 ],\n",
       "       [-0.01942624,  0.03850574,  0.00598303,  0.03321396],\n",
       "       [-0.03656382, -0.03151001,  0.02115289, -0.02943042],\n",
       "       [-0.01108667, -0.01047962, -0.02529276, -0.04410189],\n",
       "       [ 0.01336385,  0.02275005, -0.04700422,  0.01468054],\n",
       "       [ 0.00975124, -0.01158715,  0.04300253,  0.01824095],\n",
       "       [ 0.0122054 ,  0.02648682,  0.03019735,  0.04157075],\n",
       "       [ 0.02046919, -0.0339105 , -0.02665832, -0.00383834],\n",
       "       [-0.03774757,  0.03876178, -0.02435127,  0.03959162],\n",
       "       [-0.01633428,  0.0471046 , -0.01960145,  0.02669289],\n",
       "       [-0.01645269,  0.05126924, -0.05880726,  0.04251503],\n",
       "       [-0.04393397, -0.01388018, -0.01676842,  0.0380533 ],\n",
       "       [ 0.00257516,  0.01259921,  0.02517235,  0.0317516 ],\n",
       "       [ 0.05120807, -0.02640042,  0.07653388, -0.00314644],\n",
       "       [ 0.01992092, -0.04150433, -0.08482601, -0.09526844],\n",
       "       [-0.08273199, -0.06715031, -0.02851509,  0.0001604 ],\n",
       "       [-0.03208812, -0.00957425,  0.03857626, -0.04627559],\n",
       "       [ 0.00288259, -0.04850852,  0.01783263, -0.00239607],\n",
       "       [ 0.08523524, -0.02068261,  0.09585434, -0.01379884],\n",
       "       [ 0.08370835,  0.02978159,  0.03817386,  0.06928911],\n",
       "       [-0.03960287,  0.06485616, -0.03982381,  0.07264579],\n",
       "       [ 0.03415925,  0.04600327, -0.03938814, -0.02328062],\n",
       "       [-0.03924415,  0.02391311, -0.00823158,  0.03367238],\n",
       "       [ 0.00468158,  0.07259643,  0.04820761,  0.03144159],\n",
       "       [-0.00933412,  0.00334402,  0.03508997,  0.0458271 ],\n",
       "       [ 0.03580895,  0.01988867, -0.04109121, -0.04198184],\n",
       "       [-0.06430959, -0.03284765, -0.00723304,  0.06166505],\n",
       "       [ 0.0123512 , -0.00325723,  0.076419  , -0.07197043],\n",
       "       [ 0.03157935,  0.02432432,  0.02202072, -0.00974471]],\n",
       "      dtype=float32)"
      ]
     },
     "execution_count": 32,
     "metadata": {},
     "output_type": "execute_result"
    }
   ],
   "source": [
    "weights = model.get_layer(\"embedding\").get_weights()[0]\n",
    "weights"
   ]
  },
  {
   "cell_type": "code",
   "execution_count": 34,
   "id": "d3190edf",
   "metadata": {
    "scrolled": true
   },
   "outputs": [
    {
     "data": {
      "text/plain": [
       "(array([-0.06430959, -0.03284765, -0.00723304,  0.06166505], dtype=float32),\n",
       " array([-0.01645269,  0.05126924, -0.05880726,  0.04251503], dtype=float32),\n",
       " array([0.08370835, 0.02978159, 0.03817386, 0.06928911], dtype=float32))"
      ]
     },
     "execution_count": 34,
     "metadata": {},
     "output_type": "execute_result"
    }
   ],
   "source": [
    "weights[27], weights[11], weights[20] "
   ]
  },
  {
   "cell_type": "code",
   "execution_count": 83,
   "id": "d8de1735",
   "metadata": {},
   "outputs": [],
   "source": [
    "def predict(word):\n",
    "    print(model.predict(pad_sequences([np.array(one_hot(word, 30))], maxlen=max_length, padding=\"post\")))"
   ]
  },
  {
   "cell_type": "code",
   "execution_count": 103,
   "id": "751c6a72",
   "metadata": {},
   "outputs": [
    {
     "name": "stdout",
     "output_type": "stream",
     "text": [
      "1/1 [==============================] - 0s 21ms/step\n",
      "[[0.45119837]]\n"
     ]
    }
   ],
   "source": [
    "predict(\"poor meat\")"
   ]
  },
  {
   "cell_type": "code",
   "execution_count": null,
   "id": "f3c55c13",
   "metadata": {},
   "outputs": [],
   "source": []
  }
 ],
 "metadata": {
  "kernelspec": {
   "display_name": "Python 3 (ipykernel)",
   "language": "python",
   "name": "python3"
  },
  "language_info": {
   "codemirror_mode": {
    "name": "ipython",
    "version": 3
   },
   "file_extension": ".py",
   "mimetype": "text/x-python",
   "name": "python",
   "nbconvert_exporter": "python",
   "pygments_lexer": "ipython3",
   "version": "3.10.5"
  }
 },
 "nbformat": 4,
 "nbformat_minor": 5
}
